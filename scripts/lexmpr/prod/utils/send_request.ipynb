{
 "cells": [
  {
   "attachments": {},
   "cell_type": "markdown",
   "metadata": {},
   "source": [
    "Batch processing"
   ]
  },
  {
   "cell_type": "code",
   "execution_count": null,
   "metadata": {},
   "outputs": [],
   "source": [
    "FILE_NAME='recipeNLG_with_entities.csv'"
   ]
  },
  {
   "cell_type": "code",
   "execution_count": null,
   "metadata": {},
   "outputs": [],
   "source": [
    "from math import floor\n",
    "\n",
    "\n",
    "_ = !wc -l {FILE_NAME}\n",
    "LINES = int(_[0].split()[0]) - 1\n",
    "\n",
    "CHUNKSIZE=100\n",
    "CHUNKS=floor(LINES/CHUNKSIZE)"
   ]
  },
  {
   "cell_type": "code",
   "execution_count": null,
   "metadata": {},
   "outputs": [],
   "source": [
    "import requests\n",
    "import pandas as pd\n",
    "import io\n",
    "import json\n",
    "import tqdm\n",
    "\n",
    "df_iter = pd.read_csv(FILE_NAME, iterator=True, chunksize=CHUNKSIZE)\n",
    "\n",
    "batch: pd.DataFrame\n",
    "for batch in tqdm.tqdm(df_iter, total=CHUNKS):\n",
    "    buff = io.StringIO()\n",
    "    batch.to_csv(buff)\n",
    "    data = buff.read()\n",
    "    out = requests.post('http://localhost:5000', data)\n",
    " \n",
    " \n",
    "    json = out.content.decode()\n",
    "    with open('out.json', 'w+') as file:\n",
    "        file.write(json)"
   ]
  }
 ],
 "metadata": {
  "kernelspec": {
   "display_name": "Python 3",
   "language": "python",
   "name": "python3"
  },
  "language_info": {
   "codemirror_mode": {
    "name": "ipython",
    "version": 3
   },
   "file_extension": ".py",
   "mimetype": "text/x-python",
   "name": "python",
   "nbconvert_exporter": "python",
   "pygments_lexer": "ipython3",
   "version": "3.9.11"
  },
  "orig_nbformat": 4
 },
 "nbformat": 4,
 "nbformat_minor": 2
}
