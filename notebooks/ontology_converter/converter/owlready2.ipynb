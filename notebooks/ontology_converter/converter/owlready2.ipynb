{
 "cells": [
  {
   "attachments": {},
   "cell_type": "markdown",
   "metadata": {},
   "source": [
    "Classes:\n",
    "- ontology.food_reciepe\n",
    "- ontology.ingredient_set\n",
    "- ontology.has_member\n",
    "- ontology.is_about\n",
    "- ontology.logical_xor\n",
    "- ontology.ingredient_specification"
   ]
  },
  {
   "cell_type": "code",
   "execution_count": 1,
   "metadata": {},
   "outputs": [],
   "source": [
    "map_table = {\n",
    "\t\t' ': '_',\n",
    "        \"\\\"\": \"&quot;\",\n",
    "        \"&\": \"&amp;\",\n",
    "        \"'\": \"&apos;\",\n",
    "        \"<\": \"&lt;\",\n",
    "        \">\": \"&gt;\",\n",
    "        \"\\n\": \"&#xA;\",\n",
    "        \"\\r\": \"&#xD;\",\n",
    "        \"\\t\": \"&#x9;\",\n",
    "        \"!\": \"&#x21;\",\n",
    "        \"#\": \"&#x23;\",\n",
    "        \"$\": \"&#x24;\",\n",
    "        \"%\": \"&#x25;\",\n",
    "        \"(\": \"&#x28;\",\n",
    "        \")\": \"&#x29;\",\n",
    "        \"*\": \"&#x2A;\",\n",
    "        \"+\": \"&#x2B;\",\n",
    "        \",\": \"&#x2C;\",\n",
    "        \"-\": \"&#x2D;\",\n",
    "        \".\": \"&#x2E;\",\n",
    "        \"/\": \"&#x2F;\",\n",
    "        \":\": \"&#x3A;\",\n",
    "        \";\": \"&#x3B;\",\n",
    "        \"=\": \"&#x3D;\",\n",
    "        \"?\": \"&#x3F;\",\n",
    "        \"@\": \"&#x40;\",\n",
    "        \"[\": \"&#x5B;\",\n",
    "        \"\\\\\": \"&#x5C;\",\n",
    "        \"]\": \"&#x5D;\",\n",
    "        \"^\": \"&#x5E;\",\n",
    "        \"_\": \"&#x5F;\",\n",
    "        \"`\": \"&#x60;\",\n",
    "        \"{\": \"&#x7B;\",\n",
    "        \"|\": \"&#x7C;\",\n",
    "        \"}\": \"&#x7D;\",\n",
    "        \"~\": \"&#x7E;\",\n",
    "        \"\\u0085\": \"&#x85;\",\n",
    "        \"\\u00A0\": \"&#xA0;\",\n",
    "        \"\\u2028\": \"&#x2028;\",\n",
    "        \"\\u2029\": \"&#x2029;\"\n",
    "}\n",
    "\n",
    "for key in map_table.keys():\n",
    "    map_table[key] = '_'"
   ]
  },
  {
   "cell_type": "code",
   "execution_count": 2,
   "metadata": {},
   "outputs": [
    {
     "name": "stderr",
     "output_type": "stream",
     "text": [
      "* Owlready2 * Warning: optimized Cython parser module 'owlready2_optimized' is not available, defaulting to slower Python implementation\n"
     ]
    }
   ],
   "source": [
    "import owlready2\n",
    "import json\n",
    "\n",
    "\n",
    "def load_ontology(path='../rdf/io_prototype.rdf'):\n",
    "    ontology = owlready2.get_ontology(path).load()\n",
    "    return ontology\n",
    "\n",
    "def load_json(path: str):\n",
    "    content = open(path)\\\n",
    "        .read()\\\n",
    "        .replace('\\n', '')\\\n",
    "        .replace('\\t', '')\n",
    "    \n",
    "    content = json.loads(content)\n",
    "    return content\n",
    "\n",
    "def escape_string(txt: str) -> str:\n",
    "    \n",
    "    for src, dst in map_table.items():\n",
    "        txt = txt.replace(src, dst)\n",
    "    return txt\n",
    "\n",
    "def create_recipe_object(ontology, content):\n",
    "    owl_recipe = ontology.food_reciepe(escape_string(content['title']))\n",
    "    owl_recipe.is_about = [content['link']]\n",
    "    return owl_recipe\n",
    "\n",
    "def create_ingredient_set_object(ontology, content, owl_recipe):\n",
    "    espaced_title = escape_string(content['title'])\n",
    "    owl_id = f'__INGREDIENT_SET__{espaced_title}'\n",
    "    \n",
    "    owl_ingredient_set = ontology.ingredient_set(owl_id)\n",
    "    owl_ingredient_set.component_of = [owl_recipe]\n",
    "    return owl_ingredient_set\n",
    "\n",
    "def create_ingredients_list(ontology, content, owl_ingredient_set):\n",
    "    owl_ingredients = []\n",
    "    for ingredient in content['ingredientSet']:\n",
    "        # for every xor subingredients\n",
    "        if isinstance(ingredient['name'], list):\n",
    "            # create subingredients\n",
    "            \n",
    "            xor_list = []\n",
    "            for name, oboId in zip(ingredient['name'], ingredient['oboId']):\n",
    "                owl_ingredient = ontology.ingredient_specification(name)\n",
    "                owl_food_instance = ontology.food_material(oboId)\n",
    "                owl_ingredient.is_about = [owl_food_instance]\n",
    "                owl_ingredient_set.has_member.append(owl_ingredient)\n",
    "                \n",
    "                # to be xored between pairs\n",
    "                xor_list.append(owl_ingredient)\n",
    "                \n",
    "            # xor\n",
    "            for ent1 in xor_list:\n",
    "                for ent2 in xor_list:\n",
    "                    if ent1 is not ent2:\n",
    "                        ent1.logical_xor = [ent2]\n",
    "        else:\n",
    "            # create ingredient\n",
    "            owl_ingredient = ontology.ingredient_specification(escape_string(ingredient['name']))\n",
    "            owl_food_instance = ontology.food_material(ingredient['oboId'])\n",
    "            owl_ingredient.is_about = [owl_food_instance]\n",
    "            owl_ingredient_set.has_member.append(owl_ingredient)\n",
    "            owl_ingredients.append(owl_ingredient)\n",
    "   \n",
    "    return owl_ingredients\n",
    "\n",
    "ontology = load_ontology()\n",
    "\n",
    "def converter(content):\n",
    "    owl_recipe = create_recipe_object(ontology, content)\n",
    "    owl_ingredient_set = create_ingredient_set_object(ontology, content, owl_recipe)\n",
    "    owl_recipe.has_member = create_ingredients_list(ontology, content, owl_ingredient_set)"
   ]
  },
  {
   "cell_type": "code",
   "execution_count": 14,
   "metadata": {},
   "outputs": [
    {
     "name": "stderr",
     "output_type": "stream",
     "text": [
      "100%|██████████| 10/10 [00:00<00:00, 1895.64it/s]\n"
     ]
    }
   ],
   "source": [
    "from tqdm import tqdm\n",
    "\n",
    "all_content = load_json('../lexmapr_out.json')\n",
    "for sample in tqdm(all_content):\n",
    "    converter(sample)\n",
    "    \n",
    "# save ontology\n",
    "file_path = \"../updated_ontology.owl\"\n",
    "ontology.save(file=file_path)"
   ]
  }
 ],
 "metadata": {
  "kernelspec": {
   "display_name": ".venv",
   "language": "python",
   "name": "python3"
  },
  "language_info": {
   "codemirror_mode": {
    "name": "ipython",
    "version": 3
   },
   "file_extension": ".py",
   "mimetype": "text/x-python",
   "name": "python",
   "nbconvert_exporter": "python",
   "pygments_lexer": "ipython3",
   "version": "3.10.6"
  },
  "orig_nbformat": 4
 },
 "nbformat": 4,
 "nbformat_minor": 2
}
