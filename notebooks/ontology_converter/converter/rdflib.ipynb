{
 "cells": [
  {
   "cell_type": "code",
   "execution_count": null,
   "metadata": {},
   "outputs": [],
   "source": [
    "import json\n",
    "from rdflib import Graph, URIRef, Literal, Namespace\n",
    "\n",
    "# Load JSON data\n",
    "json_data = '{\"title\": \"No-Bake Nut Cookies\", \"link\": \"www.cookbooks.com/Recipe-Details.aspx?id=44874\", \"ingredientSet\": [{\"name\": \"brown\", \"oboId\": \"PATO_0000952\", \"match\": \"Full Term Match\"}, {\"name\": \"sugar\", \"oboId\": \"FOODON_03420108\", \"match\": \"Full Term Match\"}, {\"name\": \"milk\", \"oboId\": \"UBERON_0001913\", \"match\": \"Full Term Match\"}, {\"name\": \"vanilla\", \"oboId\": \"NCBITAXON_51238\", \"match\": \"Full Term Match\"}, {\"name\": \"nut (whole or parts)\", \"oboId\": \"FOODON_03306632\", \"match\": \"Full Term Match\"}, {\"name\": \"carya illinoinensis\", \"oboId\": \"NCBITAXON_32201\", \"match\": \"Full Term Match\"}, {\"name\": \"butter\", \"oboId\": \"FOODON_03310351\", \"match\": \"Full Term Match\"}, {\"name\": \"margarine\", \"oboId\": \"FOODON_03301672\", \"match\": \"Full Term Match\"}, {\"name\": \"divided into pieces, thickness <0.3 cm.\", \"oboId\": \"FOODON_03430100\", \"match\": \"Full Term Match\"}, {\"name\": [\"rice\", \"scone\"], \"oboId\": [\"FOODON_00004327\", \"FOODON_00002465\"], \"match\": \"Component Match\"}]}'\n",
    "\n",
    "# Parse JSON data to Python object\n",
    "data = json.loads(json_data)\n",
    "\n",
    "# Create RDF graph\n",
    "graph = Graph()\n",
    "\n",
    "# Define namespaces\n",
    "FOOD = Namespace('http://example.com/food')\n",
    "graph.bind('food', FOOD)\n",
    "\n",
    "# Create recipe resource\n",
    "recipe_uri = URIRef(FOOD + 'recipe/1')\n",
    "graph.add((recipe_uri, RDF.type, URIRef('http://schema.org/Recipe')))\n",
    "graph.add((recipe_uri, URIRef('http://schema.org/name'), Literal(data['title'])))\n",
    "graph.add((recipe_uri, URIRef('http://schema.org/url'), Literal(data['link'])))\n",
    "\n",
    "\n",
    "# Add ingredient resources\n",
    "for index, ingredient in enumerate(data['ingredientSet']):\n",
    "    if isinstance(ingredient['oboId'], list):\n",
    "        op_alternative_uri = URIRef(f\"{FOOD}/ingredient/{index}\")\n",
    "        \n",
    "        for ingredient_name, ingredient_id in zip(ingredient['name'], ingredient['oboId']):\n",
    "            \n",
    "            ingredient_uri = URIRef(f\"{FOOD}/ingredient/{index}/{ingredient_id}\")\n",
    "            graph.add((ingredient_uri, RDF.type, URIRef('http://schema.org/Text')))\n",
    "            graph.add((ingredient_uri, URIRef('http://schema.org/name'), Literal(ingredient_name)))\n",
    "            graph.add((op_alternative_uri, URIRef('http://schema.org/recipeIngredient'), ingredient_uri))\n",
    "        \n",
    "        # attach \"or\" into recipie as ingredient\n",
    "        graph.add((recipe_uri, URIRef('http://schema.org/operators/or'), op_alternative_uri))\n",
    "    else:\n",
    "        ingredient_uri = URIRef(f\"{FOOD}/ingredient/{index}/{ingredient['oboId']}\")\n",
    "        graph.add((recipe_uri, URIRef('http://schema.org/recipeIngredient'), ingredient_uri))\n",
    "        graph.add((ingredient_uri, RDF.type, URIRef('http://schema.org/Text')))\n",
    "        graph.add((ingredient_uri, URIRef('http://schema.org/name'), Literal(ingredient['name'])))\n",
    "        \n",
    "\n",
    "# Print the graph in Turtle format\n",
    "print(graph.serialize(format='xml'))"
   ]
  }
 ],
 "metadata": {
  "kernelspec": {
   "display_name": ".venv",
   "language": "python",
   "name": "python3"
  },
  "language_info": {
   "codemirror_mode": {
    "name": "ipython",
    "version": 3
   },
   "file_extension": ".py",
   "mimetype": "text/x-python",
   "name": "python",
   "nbconvert_exporter": "python",
   "pygments_lexer": "ipython3",
   "version": "3.10.6"
  },
  "orig_nbformat": 4
 },
 "nbformat": 4,
 "nbformat_minor": 2
}
