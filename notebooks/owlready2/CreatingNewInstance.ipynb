{
 "cells": [
  {
   "attachments": {},
   "cell_type": "markdown",
   "metadata": {},
   "source": [
    "This code is run and tested on the Python 3.7.4 interpreter. Owlready2 was installed with `pip install owlready2`. It is the latest version owlready2 at this time - 0.40\n",
    "\n",
    "Note that aliasing owlready2 as owl is not a common practice (like aliasing numpy with np, or pandas with pd) - I just like it."
   ]
  },
  {
   "cell_type": "code",
   "execution_count": 1,
   "metadata": {},
   "outputs": [
    {
     "name": "stderr",
     "output_type": "stream",
     "text": [
      "* Owlready2 * Warning: optimized Cython parser module 'owlready2_optimized' is not available, defaulting to slower Python implementation\n"
     ]
    },
    {
     "data": {
      "text/plain": [
       "'0.40'"
      ]
     },
     "execution_count": 1,
     "metadata": {},
     "output_type": "execute_result"
    }
   ],
   "source": [
    "import owlready2 as owl \n",
    "owl.VERSION"
   ]
  },
  {
   "attachments": {},
   "cell_type": "markdown",
   "metadata": {},
   "source": [
    "If we wanted to access an ontology we need to load it."
   ]
  },
  {
   "cell_type": "code",
   "execution_count": 2,
   "metadata": {},
   "outputs": [],
   "source": [
    "ontology = owl.get_ontology('../../ontology/io_prototype.rdf').load()"
   ]
  },
  {
   "attachments": {},
   "cell_type": "markdown",
   "metadata": {},
   "source": [
    "Access to the lists of entries within the ontology is implemented with the generators"
   ]
  },
  {
   "cell_type": "code",
   "execution_count": 3,
   "metadata": {},
   "outputs": [
    {
     "name": "stdout",
     "output_type": "stream",
     "text": [
      "<generator object _GraphManager.classes at 0x000001FE59228A50>\n",
      "<generator object _GraphManager.annotation_properties at 0x000001FE59228A50>\n",
      "<generator object _GraphManager.data_properties at 0x000001FE59228A50>\n",
      "<generator object _GraphManager.object_properties at 0x000001FE59228A50>\n",
      "<generator object _GraphManager.individuals at 0x000001FE59228A50>\n"
     ]
    }
   ],
   "source": [
    "print(ontology.classes())\n",
    "print(ontology.annotation_properties())\n",
    "print(ontology.data_properties())\n",
    "print(ontology.object_properties())\n",
    "print(ontology.individuals())"
   ]
  },
  {
   "cell_type": "code",
   "execution_count": 4,
   "metadata": {},
   "outputs": [
    {
     "name": "stdout",
     "output_type": "stream",
     "text": [
      "io_prototype.mass\n",
      "io_prototype.volume\n",
      "io_prototype.boiled_carrots\n",
      "io_prototype.carrot_raw_diced\n",
      "io_prototype.drinking_water\n",
      "io_prototype.x_idi1\n",
      "io_prototype.x_idi2\n",
      "io_prototype.x_ings1\n",
      "io_prototype.x_ingsp1\n",
      "io_prototype.x_ingsp2\n"
     ]
    },
    {
     "name": "stderr",
     "output_type": "stream",
     "text": [
      "* Owlready2 * Warning: ignoring cyclic type of, involving storid 2309\n",
      "\n",
      "* Owlready2 * Warning: ignoring cyclic type of, involving storid 2372\n",
      "\n"
     ]
    }
   ],
   "source": [
    "for individual in ontology.individuals():\n",
    "    print(individual)"
   ]
  },
  {
   "attachments": {},
   "cell_type": "markdown",
   "metadata": {},
   "source": [
    "Note that most of the classes in the current prototype are imported from OBO, FoodON, UO, PATO and general ontologies, such as IAO or RO."
   ]
  },
  {
   "cell_type": "code",
   "execution_count": 5,
   "metadata": {},
   "outputs": [
    {
     "name": "stdout",
     "output_type": "stream",
     "text": [
      "obo.BFO_0000002, obo.BFO_0000003, obo.BFO_0000004, obo.BFO_0000017, "
     ]
    }
   ],
   "source": [
    "iter = 5\n",
    "for cls in ontology.classes():\n",
    "    print(cls, end=', ')\n",
    "    iter -= 1\n",
    "    if iter == 1:\n",
    "        break"
   ]
  },
  {
   "attachments": {},
   "cell_type": "markdown",
   "metadata": {},
   "source": [
    "If we know the name of the class we want to process (it's actual name within the namespace of the ontology, not the label), we can get it like this:"
   ]
  },
  {
   "cell_type": "code",
   "execution_count": 6,
   "metadata": {},
   "outputs": [
    {
     "data": {
      "text/plain": [
       "io_prototype.food_reciepe"
      ]
     },
     "execution_count": 6,
     "metadata": {},
     "output_type": "execute_result"
    }
   ],
   "source": [
    "ontology.food_reciepe"
   ]
  },
  {
   "attachments": {},
   "cell_type": "markdown",
   "metadata": {},
   "source": [
    "However, generally we will be dealing with imported classes. Loading a class, knowing it's IRI is also quite simple."
   ]
  },
  {
   "cell_type": "code",
   "execution_count": 7,
   "metadata": {},
   "outputs": [
    {
     "data": {
      "text/plain": [
       "obo.BFO_0000002"
      ]
     },
     "execution_count": 7,
     "metadata": {},
     "output_type": "execute_result"
    }
   ],
   "source": [
    "owl.IRIS['http://purl.obolibrary.org/obo/BFO_0000002']"
   ]
  },
  {
   "attachments": {},
   "cell_type": "markdown",
   "metadata": {},
   "source": [
    "In the current version I'm using my own definitions for the following classes:\n",
    "\n",
    " - food reciepe\n",
    " - device set\n",
    " - ingredient set\n",
    " - instruction set\n",
    " - ingredient specification\n",
    "and properties\n",
    " - is about\n",
    " - has member\n",
    " - has quantity\n",
    "\n",
    "\n",
    "However, all of them have equivalents in the source ontologies\n",
    "\n",
    " - Ingredient set: http://purl.obolibrary.org/obo/FOODON_00004082\n",
    " - Instruction set: http://purl.obolibrary.org/obo/FOODON_00004084\n",
    " - Device set: http://purl.obolibrary.org/obo/FOODON_00004084\n",
    " - Food reciepe: http://purl.obolibrary.org/obo/FOODON_00004081\n",
    " - Ingredient specification: http://purl.obolibrary.org/obo/FOODON_00004085\n",
    "\n",
    "object properties\n",
    "- 'is about' : http://purl.obolibrary.org/obo/IAO_0000136\n",
    "- 'has member' : http://purl.obolibrary.org/obo/RO_0002351\n",
    "\n",
    "data properties:\n",
    "'has quantity' : http://purl.obolibrary.org/obo/COB_0000511\n",
    "\n",
    "we will very likely end up using the existing properties."
   ]
  },
  {
   "attachments": {},
   "cell_type": "markdown",
   "metadata": {},
   "source": [
    "Currently in the ontology, there is one food reciepe: Boiled Carrots"
   ]
  },
  {
   "cell_type": "code",
   "execution_count": 8,
   "metadata": {},
   "outputs": [
    {
     "name": "stdout",
     "output_type": "stream",
     "text": [
      "io_prototype.boiled_carrots\n"
     ]
    }
   ],
   "source": [
    "food_reciepe_class : owl.ClassConstruct = ontology.food_reciepe\n",
    "for instance in ontology.get_instances_of(food_reciepe_class):\n",
    "    print(instance)"
   ]
  },
  {
   "attachments": {},
   "cell_type": "markdown",
   "metadata": {},
   "source": [
    "Currently we are using a one-directional component_of relation. So we cannot get the ingredient set directly from this individual. Instead we need to search trough all ingredient sets and check wether it is connected to this reciepe via 'component_of' relation"
   ]
  },
  {
   "cell_type": "code",
   "execution_count": 9,
   "metadata": {},
   "outputs": [
    {
     "name": "stdout",
     "output_type": "stream",
     "text": [
      "io_prototype.boiled_carrots\n",
      "io_prototype.x_ings1\n"
     ]
    }
   ],
   "source": [
    "food_reciepe_class : owl.ClassConstruct = ontology.food_reciepe\n",
    "component_class : owl.ClassConstruct = ontology.ingredient_set\n",
    "for instance in ontology.get_instances_of(food_reciepe_class):\n",
    "    print(instance)\n",
    "    for component_set in ontology.get_instances_of(component_class):\n",
    "        if instance in component_set.component_of:\n",
    "            print(component_set)\n",
    "        "
   ]
  },
  {
   "attachments": {},
   "cell_type": "markdown",
   "metadata": {},
   "source": [
    "Specific components of the component set are connected to the set via 'has_component' relation."
   ]
  },
  {
   "cell_type": "code",
   "execution_count": 10,
   "metadata": {},
   "outputs": [
    {
     "name": "stdout",
     "output_type": "stream",
     "text": [
      "io_prototype.boiled_carrots\n",
      "\tio_prototype.x_ings1\n",
      "\t\tio_prototype.x_ingsp1\n",
      "\t\tio_prototype.x_ingsp2\n"
     ]
    }
   ],
   "source": [
    "food_reciepe_class : owl.ClassConstruct = ontology.food_reciepe\n",
    "component_class : owl.ClassConstruct = ontology.ingredient_set\n",
    "for instance in ontology.get_instances_of(food_reciepe_class):\n",
    "    print(instance)\n",
    "    for component_set in ontology.get_instances_of(component_class):\n",
    "        if instance in component_set.component_of:\n",
    "            print(f'\\t{component_set}')\n",
    "            for component in component_set.has_component:\n",
    "                    print(f'\\t\\t{component}')"
   ]
  },
  {
   "attachments": {},
   "cell_type": "markdown",
   "metadata": {},
   "source": [
    "Components are connected with their specification via 'has_component' relation. Components are about food materials. The relation between food material and components is 'is_about'."
   ]
  },
  {
   "cell_type": "code",
   "execution_count": 11,
   "metadata": {},
   "outputs": [
    {
     "name": "stdout",
     "output_type": "stream",
     "text": [
      "io_prototype.boiled_carrots\n",
      "\tio_prototype.x_ings1\n",
      "\t\tio_prototype.x_ingsp1\n",
      "\t\t\tIs About: io_prototype.drinking_water\n",
      "\t\t\tio_prototype.x_idi1\n",
      "\t\t\t\tteaspoon\n",
      "\t\t\t\t0.5\n",
      "\t\t\t\tio_prototype.volume\n",
      "\t\tio_prototype.x_ingsp2\n",
      "\t\t\tIs About: io_prototype.carrot_raw_diced\n"
     ]
    }
   ],
   "source": [
    "food_reciepe_class : owl.ClassConstruct = ontology.food_reciepe\n",
    "component_class : owl.ClassConstruct = ontology.ingredient_set\n",
    "for instance in ontology.get_instances_of(food_reciepe_class):\n",
    "    print(instance)\n",
    "    for component_set in ontology.get_instances_of(component_class):\n",
    "        if instance in component_set.component_of:\n",
    "            print(f'\\t{component_set}')\n",
    "            for component in component_set.has_component:\n",
    "                    print(f'\\t\\t{component}')\n",
    "                    for food in component.is_about:\n",
    "                        print(f'\\t\\t\\tIs About: {food}')\n",
    "                    for specification in component.has_component:\n",
    "                        print(f'\\t\\t\\t{specification}')\n",
    "                        print(f'\\t\\t\\t\\t{specification.has_unit[0].label[0]}')\n",
    "                        print(f'\\t\\t\\t\\t{specification.has_quantity[0]}')\n",
    "                        print(f'\\t\\t\\t\\t{specification.is_quality_measure_of[0]}')"
   ]
  },
  {
   "attachments": {},
   "cell_type": "markdown",
   "metadata": {},
   "source": [
    "In order to create a new instance, well, we simply create it. First we need to recognize the class, of the instance we want to create, and then simply create it."
   ]
  },
  {
   "cell_type": "code",
   "execution_count": 12,
   "metadata": {},
   "outputs": [
    {
     "name": "stdout",
     "output_type": "stream",
     "text": [
      "io_prototype.food_reciepe1\n",
      "io_prototype.food_reciepe2\n"
     ]
    }
   ],
   "source": [
    "new_reciepe1 = ontology.food_reciepe()\n",
    "new_reciepe2 = food_reciepe_class()\n",
    "\n",
    "#new_reciepe3 = owl.IRIS[class iri]\n",
    "print(new_reciepe1)\n",
    "print(new_reciepe2)"
   ]
  },
  {
   "attachments": {},
   "cell_type": "markdown",
   "metadata": {},
   "source": [
    "For custom IRIs we create it like this"
   ]
  },
  {
   "cell_type": "code",
   "execution_count": 13,
   "metadata": {},
   "outputs": [
    {
     "data": {
      "text/plain": [
       "'http://www.semanticweb.org/student/ontologies/2023/2/io_prototype.owl#TAISTI_0000123'"
      ]
     },
     "execution_count": 13,
     "metadata": {},
     "output_type": "execute_result"
    }
   ],
   "source": [
    "new_reciepe3 = ontology.food_reciepe('TAISTI_0000123')\n",
    "new_reciepe3\n",
    "new_reciepe3.iri"
   ]
  },
  {
   "attachments": {},
   "cell_type": "markdown",
   "metadata": {},
   "source": [
    "The goal is to map the JSON files into fragments of a graph, created upon the class definitions from the source ontologies."
   ]
  },
  {
   "cell_type": "code",
   "execution_count": 14,
   "metadata": {},
   "outputs": [
    {
     "data": {
      "text/plain": [
       "{'name': 'Cheesburger Potato Soup',\n",
       " 'oboId': '',\n",
       " 'match': 'No Match',\n",
       " 'ingredientSet': [{'name': 'potato',\n",
       "   'oboId': 'FOODON_03302197',\n",
       "   'match': 'Full Match',\n",
       "   'quantity': '6',\n",
       "   'unit': ''},\n",
       "  {'name': 'extra lean ground beef',\n",
       "   'oboId': 'FOODON_00001282',\n",
       "   'match': 'Component Match',\n",
       "   'quantity': '1',\n",
       "   'unit': 'lb'},\n",
       "  {'name': 'butter',\n",
       "   'oboId': 'FOODON_03310351',\n",
       "   'match': 'Full Term Match',\n",
       "   'quantity': '2/3',\n",
       "   'unit': 'c'}],\n",
       " 'deviceSet': [{'name': 'microwave',\n",
       "   'oboId': 'OBI:0001061',\n",
       "   'match': 'Full Match'},\n",
       "  {'name': 'kettle', 'oboId': '', 'match': 'No Match'}],\n",
       " 'instructionSet': [{'stepNo': '1',\n",
       "   'content': 'Wash potatoes; prick several times with a fork.',\n",
       "   'process': '',\n",
       "   'oboId': '',\n",
       "   'match': 'No Match'},\n",
       "  {'stepNo': '2',\n",
       "   'content': 'Microwave them with a wet paper towel covering the potatoes on high for 6-8 minutes.',\n",
       "   'process': 'cooking by microwave',\n",
       "   'oboId': 'FOODON:03450011',\n",
       "   'match': 'Component Match'}]}"
      ]
     },
     "execution_count": 14,
     "metadata": {},
     "output_type": "execute_result"
    }
   ],
   "source": [
    "import json\n",
    "sample = json.load(open('../../samples/sample_afterlexmappr_beforekg.json'))\n",
    "sample"
   ]
  },
  {
   "attachments": {},
   "cell_type": "markdown",
   "metadata": {},
   "source": [
    "Let's start by loading the foodon ontology. (the github source is temporary, we need to find a proper online source for the ontology)"
   ]
  },
  {
   "cell_type": "code",
   "execution_count": 15,
   "metadata": {},
   "outputs": [],
   "source": [
    "foodon_ontology = owl.get_ontology('https://raw.githubusercontent.com/FoodOntology/foodon/master/foodon.owl').load()"
   ]
  },
  {
   "attachments": {},
   "cell_type": "markdown",
   "metadata": {},
   "source": [
    "We can parse the ingredient set and convert the classes within the set to what we need. Remember, that the obiId is not the full IRI, we still need to use the prefix."
   ]
  },
  {
   "cell_type": "code",
   "execution_count": 16,
   "metadata": {},
   "outputs": [
    {
     "name": "stdout",
     "output_type": "stream",
     "text": [
      "['potato (boiled)']\n",
      "\t['solanaceous root food product']\n",
      "\t['material entity', 'material entity', 'material entity', 'material entity']\n",
      "\t['plant root food product']\n",
      "\t['independent continuant', 'independent continuant', 'independent continuant', 'independent continuant']\n",
      "\t['food product by organism']\n",
      "\t['plant food product']\n",
      "\t['potato (boiled)']\n",
      "\t[]\n",
      "\t['food product']\n",
      "\t['continuant', 'continuant', 'continuant', 'continuant']\n",
      "\t['potato food product']\n",
      "\t['food material', 'food material']\n",
      "\t['entity', 'entity', 'entity', 'entity']\n",
      "\t['solanaceous food product']\n",
      "['ground beef food product']\n",
      "\t['vertebrate animal food product']\n",
      "\t['material entity', 'material entity', 'material entity', 'material entity']\n",
      "\t['food material', 'food material']\n",
      "\t['entity', 'entity', 'entity', 'entity']\n",
      "\t['independent continuant', 'independent continuant', 'independent continuant', 'independent continuant']\n",
      "\t['food product by organism']\n",
      "\t['animal food product']\n",
      "\t[]\n",
      "\t['food product']\n",
      "\t['continuant', 'continuant', 'continuant', 'continuant']\n",
      "\t['mammalian meat food product']\n",
      "\t['bovine meat food product']\n",
      "\t['beef food product']\n",
      "\t['ground beef food product']\n",
      "['butter']\n",
      "\t['vertebrate animal food product']\n",
      "\t['material entity', 'material entity', 'material entity', 'material entity']\n",
      "\t['cattle dairy food product']\n",
      "\t['independent continuant', 'independent continuant', 'independent continuant', 'independent continuant']\n",
      "\t['dairy food product']\n",
      "\t['milk or milk based food product']\n",
      "\t['bovine dairy food product']\n",
      "\t['food product by organism']\n",
      "\t['animal food product']\n",
      "\t[]\n",
      "\t['food product']\n",
      "\t['cow milk butter food product']\n",
      "\t['continuant', 'continuant', 'continuant', 'continuant']\n",
      "\t['food material', 'food material']\n",
      "\t['entity', 'entity', 'entity', 'entity']\n",
      "\t['butter']\n",
      "\t['cow milk based food product']\n"
     ]
    }
   ],
   "source": [
    "for ingredient in sample['ingredientSet']:\n",
    "    food = owl.IRIS['http://purl.obolibrary.org/obo/' + ingredient['oboId']]\n",
    "    print(food.label)\n",
    "    #I'm also printing out the list of ancestors, to see whether the classes have a common ancestor (food material in this case)\n",
    "    #we need to do something like this to make sure, we are not trying to make a 'soup' reciepe with 'processes' as ingredients\n",
    "    for ancestor in food.ancestors():\n",
    "        print(f'\\t{ancestor.label}')"
   ]
  },
  {
   "attachments": {},
   "cell_type": "markdown",
   "metadata": {},
   "source": [
    "Now we need to think what to do. Is each of the ingredients a new individual? Or perhaps we are class pruning, and we are just referring to a food class trough an individual. Let's use the simple approach first and simply create an individual for each ingredient (notice the IDs of newly created objects)."
   ]
  },
  {
   "cell_type": "code",
   "execution_count": 17,
   "metadata": {},
   "outputs": [
    {
     "name": "stdout",
     "output_type": "stream",
     "text": [
      "[obo.foodon_033021971]\n",
      "[obo.foodon_000012821]\n",
      "[obo.foodon_033103511]\n"
     ]
    }
   ],
   "source": [
    "for ingredient in sample['ingredientSet']:\n",
    "    food = owl.IRIS['http://purl.obolibrary.org/obo/' + ingredient['oboId']]\n",
    "    ingredient_food = food()\n",
    "    print(foodon_ontology.get_instances_of(food))"
   ]
  },
  {
   "cell_type": "code",
   "execution_count": null,
   "metadata": {},
   "outputs": [],
   "source": []
  },
  {
   "attachments": {},
   "cell_type": "markdown",
   "metadata": {},
   "source": [
    "The idea is to create a graph for each of the reciepes using this method.\n",
    "Owlready2 operates on worlds. Each world can consist of multiple ontologies. Let's look for all the graph elements we need in order to create a single entry outline. \n",
    "\n",
    "We can use the search function, which traverses over all ontologies and looks for entries, which are related to a given query. We can specify the label of an entry we are looking for. Let's use an example mapping to see what do we need."
   ]
  },
  {
   "cell_type": "code",
   "execution_count": 78,
   "metadata": {},
   "outputs": [
    {
     "data": {
      "image/png": "[encoded data removed]",
      "text/plain": [
       "<IPython.core.display.Image object>"
      ]
     },
     "metadata": {},
     "output_type": "display_data"
    }
   ],
   "source": [
    "from IPython.display import Image\n",
    "display(Image(filename='../../docs/images/BindingWithUnitsOntology.png'))"
   ]
  },
  {
   "attachments": {},
   "cell_type": "markdown",
   "metadata": {},
   "source": [
    "First we are going to populate our world. This should happen only once, altough subsequent calls of the get ontology function with an ontology that is already in the world are handled by the library (resources are not loaded if they are already loaded)."
   ]
  },
  {
   "cell_type": "code",
   "execution_count": 1,
   "metadata": {},
   "outputs": [
    {
     "name": "stderr",
     "output_type": "stream",
     "text": [
      "* Owlready2 * Warning: optimized Cython parser module 'owlready2_optimized' is not available, defaulting to slower Python implementation\n"
     ]
    },
    {
     "data": {
      "text/plain": [
       "get_ontology(\"http://purl.obolibrary.org/obo/iao.owl#\")"
      ]
     },
     "execution_count": 1,
     "metadata": {},
     "output_type": "execute_result"
    }
   ],
   "source": [
    "import owlready2 as owl\n",
    "\n",
    "\n",
    "owl.default_world.get_ontology(\"https://raw.githubusercontent.com/FoodOntology/foodon/master/foodon.owl\").load()\n",
    "owl.default_world.get_ontology(\"https://raw.githubusercontent.com/pato-ontology/pato/master/pato.owl\").load()\n",
    "owl.default_world.get_ontology(\"https://raw.githubusercontent.com/bio-ontology-research-group/unit-ontology/master/uo.owl\").load()\n",
    "owl.default_world.get_ontology(\"https://raw.githubusercontent.com/information-artifact-ontology/IAO/v2022-11-07/iao.owl\").load()\n",
    "\n",
    "\n"
   ]
  },
  {
   "attachments": {},
   "cell_type": "markdown",
   "metadata": {},
   "source": [
    "Then find the properties we need"
   ]
  },
  {
   "cell_type": "code",
   "execution_count": 9,
   "metadata": {},
   "outputs": [],
   "source": [
    "food_recipe = owl.default_world.search(label=\"food recipe\")[0]\n",
    "ingredient_set = owl.default_world.search(label=\"ingredient set\")[0]\n",
    "ingredient_specification = owl.default_world.search(label=\"ingredient specification\")[0]\n",
    "data_item = owl.default_world.search(label=\"data item\")[0]\n",
    "is_about_prop = owl.default_world.search(label=\"is about\")[0]\n",
    "has_quantit_prop = owl.default_world.search(label=\"has quantity\")[0]\n",
    "has_member_prop = owl.default_world.search(label=\"has component\")[0]\n"
   ]
  },
  {
   "cell_type": "code",
   "execution_count": 10,
   "metadata": {},
   "outputs": [
    {
     "name": "stdout",
     "output_type": "stream",
     "text": [
      "obo.FOODON_00004081\n",
      "obo.FOODON_00004082\n",
      "obo.FOODON_00004085\n",
      "obo.IAO_0000027\n",
      "obo.IAO_0000136\n",
      "obo.COB_0000511\n",
      "obo.RO_0002180\n"
     ]
    }
   ],
   "source": [
    "print(food_recipe)\n",
    "print(ingredient_set)\n",
    "print(ingredient_specification)\n",
    "print(data_item)\n",
    "print(is_about_prop)\n",
    "print(has_quantit_prop)\n",
    "print(has_member_prop)"
   ]
  },
  {
   "cell_type": "code",
   "execution_count": 8,
   "metadata": {},
   "outputs": [
    {
     "name": "stdout",
     "output_type": "stream",
     "text": [
      "['ingredient set']\n"
     ]
    }
   ],
   "source": [
    "print(owl.default_world[\"http://purl.obolibrary.org/obo/FOODON_00004082\"].label)"
   ]
  }
 ],
 "metadata": {
  "kernelspec": {
   "display_name": "Python 3",
   "language": "python",
   "name": "python3"
  },
  "language_info": {
   "codemirror_mode": {
    "name": "ipython",
    "version": 3
   },
   "file_extension": ".py",
   "mimetype": "text/x-python",
   "name": "python",
   "nbconvert_exporter": "python",
   "pygments_lexer": "ipython3",
   "version": "3.9.10"
  },
  "orig_nbformat": 4
 },
 "nbformat": 4,
 "nbformat_minor": 2
}
